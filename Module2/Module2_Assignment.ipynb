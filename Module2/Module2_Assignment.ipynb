{
 "cells": [
  {
   "cell_type": "markdown",
   "id": "38276ccb",
   "metadata": {},
   "source": [
    "# Module 2\n",
    "### Jaya Marella"
   ]
  },
  {
   "cell_type": "code",
   "execution_count": 8,
   "id": "8a4cfb85",
   "metadata": {},
   "outputs": [],
   "source": [
    "#import statements\n",
    "%matplotlib inline\n",
    "import matplotlib.pyplot as plt \n",
    "import networkx as nx\n",
    "import wikipedia as wiki"
   ]
  },
  {
   "cell_type": "code",
   "execution_count": 12,
   "id": "4860f391",
   "metadata": {},
   "outputs": [
    {
     "name": "stdout",
     "output_type": "stream",
     "text": [
      "Collecting selenium\n",
      "  Obtaining dependency information for selenium from https://files.pythonhosted.org/packages/04/4d/a6e8afd65b87372e275eb612d564ec68f79195e9b7e27004a3b2cce69686/selenium-4.20.0-py3-none-any.whl.metadata\n",
      "  Downloading selenium-4.20.0-py3-none-any.whl.metadata (6.9 kB)\n",
      "Requirement already satisfied: urllib3[socks]<3,>=1.26 in /Users/jaya/anaconda3/lib/python3.11/site-packages (from selenium) (1.26.16)\n",
      "Collecting trio~=0.17 (from selenium)\n",
      "  Obtaining dependency information for trio~=0.17 from https://files.pythonhosted.org/packages/17/c9/f86f89f14d52f9f2f652ce24cb2f60141a51d087db1563f3fba94ba07346/trio-0.25.0-py3-none-any.whl.metadata\n",
      "  Downloading trio-0.25.0-py3-none-any.whl.metadata (8.7 kB)\n",
      "Collecting trio-websocket~=0.9 (from selenium)\n",
      "  Obtaining dependency information for trio-websocket~=0.9 from https://files.pythonhosted.org/packages/48/be/a9ae5f50cad5b6f85bd2574c2c923730098530096e170c1ce7452394d7aa/trio_websocket-0.11.1-py3-none-any.whl.metadata\n",
      "  Downloading trio_websocket-0.11.1-py3-none-any.whl.metadata (4.7 kB)\n",
      "Requirement already satisfied: certifi>=2021.10.8 in /Users/jaya/anaconda3/lib/python3.11/site-packages (from selenium) (2024.2.2)\n",
      "Collecting typing_extensions>=4.9.0 (from selenium)\n",
      "  Obtaining dependency information for typing_extensions>=4.9.0 from https://files.pythonhosted.org/packages/01/f3/936e209267d6ef7510322191003885de524fc48d1b43269810cd589ceaf5/typing_extensions-4.11.0-py3-none-any.whl.metadata\n",
      "  Downloading typing_extensions-4.11.0-py3-none-any.whl.metadata (3.0 kB)\n",
      "Collecting attrs>=23.2.0 (from trio~=0.17->selenium)\n",
      "  Obtaining dependency information for attrs>=23.2.0 from https://files.pythonhosted.org/packages/e0/44/827b2a91a5816512fcaf3cc4ebc465ccd5d598c45cefa6703fcf4a79018f/attrs-23.2.0-py3-none-any.whl.metadata\n",
      "  Downloading attrs-23.2.0-py3-none-any.whl.metadata (9.5 kB)\n",
      "Requirement already satisfied: sortedcontainers in /Users/jaya/anaconda3/lib/python3.11/site-packages (from trio~=0.17->selenium) (2.4.0)\n",
      "Requirement already satisfied: idna in /Users/jaya/anaconda3/lib/python3.11/site-packages (from trio~=0.17->selenium) (3.4)\n",
      "Collecting outcome (from trio~=0.17->selenium)\n",
      "  Obtaining dependency information for outcome from https://files.pythonhosted.org/packages/55/8b/5ab7257531a5d830fc8000c476e63c935488d74609b50f9384a643ec0a62/outcome-1.3.0.post0-py2.py3-none-any.whl.metadata\n",
      "  Downloading outcome-1.3.0.post0-py2.py3-none-any.whl.metadata (2.6 kB)\n",
      "Collecting sniffio>=1.3.0 (from trio~=0.17->selenium)\n",
      "  Obtaining dependency information for sniffio>=1.3.0 from https://files.pythonhosted.org/packages/e9/44/75a9c9421471a6c4805dbf2356f7c181a29c1879239abab1ea2cc8f38b40/sniffio-1.3.1-py3-none-any.whl.metadata\n",
      "  Downloading sniffio-1.3.1-py3-none-any.whl.metadata (3.9 kB)\n",
      "Collecting wsproto>=0.14 (from trio-websocket~=0.9->selenium)\n",
      "  Obtaining dependency information for wsproto>=0.14 from https://files.pythonhosted.org/packages/78/58/e860788190eba3bcce367f74d29c4675466ce8dddfba85f7827588416f01/wsproto-1.2.0-py3-none-any.whl.metadata\n",
      "  Downloading wsproto-1.2.0-py3-none-any.whl.metadata (5.6 kB)\n",
      "Requirement already satisfied: PySocks!=1.5.7,<2.0,>=1.5.6 in /Users/jaya/anaconda3/lib/python3.11/site-packages (from urllib3[socks]<3,>=1.26->selenium) (1.7.1)\n",
      "Collecting h11<1,>=0.9.0 (from wsproto>=0.14->trio-websocket~=0.9->selenium)\n",
      "  Obtaining dependency information for h11<1,>=0.9.0 from https://files.pythonhosted.org/packages/95/04/ff642e65ad6b90db43e668d70ffb6736436c7ce41fcc549f4e9472234127/h11-0.14.0-py3-none-any.whl.metadata\n",
      "  Downloading h11-0.14.0-py3-none-any.whl.metadata (8.2 kB)\n",
      "Downloading selenium-4.20.0-py3-none-any.whl (9.5 MB)\n",
      "\u001b[2K   \u001b[90m━━━━━━━━━━━━━━━━━━━━━━━━━━━━━━━━━━━━━━━━\u001b[0m \u001b[32m9.5/9.5 MB\u001b[0m \u001b[31m24.7 MB/s\u001b[0m eta \u001b[36m0:00:00\u001b[0m00:01\u001b[0m00:01\u001b[0m\n",
      "\u001b[?25hDownloading trio-0.25.0-py3-none-any.whl (467 kB)\n",
      "\u001b[2K   \u001b[90m━━━━━━━━━━━━━━━━━━━━━━━━━━━━━━━━━━━━━━━━\u001b[0m \u001b[32m467.2/467.2 kB\u001b[0m \u001b[31m8.8 MB/s\u001b[0m eta \u001b[36m0:00:00\u001b[0m:00:01\u001b[0m\n",
      "\u001b[?25hDownloading trio_websocket-0.11.1-py3-none-any.whl (17 kB)\n",
      "Downloading typing_extensions-4.11.0-py3-none-any.whl (34 kB)\n",
      "Downloading attrs-23.2.0-py3-none-any.whl (60 kB)\n",
      "\u001b[2K   \u001b[90m━━━━━━━━━━━━━━━━━━━━━━━━━━━━━━━━━━━━━━━━\u001b[0m \u001b[32m60.8/60.8 kB\u001b[0m \u001b[31m2.0 MB/s\u001b[0m eta \u001b[36m0:00:00\u001b[0m\n",
      "\u001b[?25hDownloading sniffio-1.3.1-py3-none-any.whl (10 kB)\n",
      "Downloading wsproto-1.2.0-py3-none-any.whl (24 kB)\n",
      "Downloading outcome-1.3.0.post0-py2.py3-none-any.whl (10 kB)\n",
      "Downloading h11-0.14.0-py3-none-any.whl (58 kB)\n",
      "\u001b[2K   \u001b[90m━━━━━━━━━━━━━━━━━━━━━━━━━━━━━━━━━━━━━━━━\u001b[0m \u001b[32m58.3/58.3 kB\u001b[0m \u001b[31m2.0 MB/s\u001b[0m eta \u001b[36m0:00:00\u001b[0m\n",
      "\u001b[?25hInstalling collected packages: typing_extensions, sniffio, h11, attrs, wsproto, outcome, trio, trio-websocket, selenium\n",
      "  Attempting uninstall: typing_extensions\n",
      "    Found existing installation: typing_extensions 4.7.1\n",
      "    Uninstalling typing_extensions-4.7.1:\n",
      "      Successfully uninstalled typing_extensions-4.7.1\n",
      "  Attempting uninstall: sniffio\n",
      "    Found existing installation: sniffio 1.2.0\n",
      "    Uninstalling sniffio-1.2.0:\n",
      "      Successfully uninstalled sniffio-1.2.0\n",
      "  Attempting uninstall: attrs\n",
      "    Found existing installation: attrs 22.1.0\n",
      "    Uninstalling attrs-22.1.0:\n",
      "      Successfully uninstalled attrs-22.1.0\n",
      "Successfully installed attrs-23.2.0 h11-0.14.0 outcome-1.3.0.post0 selenium-4.20.0 sniffio-1.3.1 trio-0.25.0 trio-websocket-0.11.1 typing_extensions-4.11.0 wsproto-1.2.0\n"
     ]
    }
   ],
   "source": [
    "!pip install selenium"
   ]
  },
  {
   "cell_type": "code",
   "execution_count": null,
   "id": "a034c265",
   "metadata": {},
   "outputs": [],
   "source": [
    "#read in data \n"
   ]
  },
  {
   "cell_type": "code",
   "execution_count": 13,
   "id": "449605ff",
   "metadata": {},
   "outputs": [
    {
     "name": "stdout",
     "output_type": "stream",
     "text": [
      "['/industries/indus?ind=Q14', '/industries/indus?ind=Q15', '/industries/indus?ind=F11', '/industries/indus?ind=G5210', '/industries/indus?ind=D01', '/industries/indus?ind=A', '/industries/indus?ind=A07', '/industries/indus?ind=A', '/industries/indus?ind=M01', '/industries/indus?ind=LT100', '/industries/indus?ind=T1100', '/industries/indus?ind=N02', '/industries/indus?ind=E07', '/industries/indus?ind=E12', '/industries/indus?ind=B4200', '/industries/indus?ind=K01', '/industries/indus?ind=T2300', '/industries/indus?ind=T2310', '/industries/indus?ind=T2100', '/industries/indus?ind=M02', '/industries/indus?ind=F4600', '/industries/indus?ind=F03', '/industries/indus?ind=F04', '/industries/indus?ind=G2900', '/industries/indus?ind=N02', '/industries/indus?ind=C1100', '/industries/indus?ind=C2100', '/industries/indus?ind=C01', '/industries/indus?ind=C02', '/industries/indus?ind=C05', '/industries/indus?ind=P01', '/industries/indus?ind=N00', '/industries/indus?ind=N05', '/industries/indus?ind=C2200', '/industries/indus?ind=Q16', '/industries/indus?ind=Z1200', '/industries/indus?ind=Z1100', '/industries/indus?ind=T2300', '/industries/indus?ind=T2310', '/industries/indus?ind=T2100', '/industries/indus?ind=N07', '/industries/indus?ind=A06', '/industries/indus?ind=N13', '/industries/indus?ind=H1500', '/industries/indus?ind=W03', '/industries/indus?ind=W05', '/industries/indus?ind=M3100', '/industries/indus?ind=E1210', '/industries/indus?ind=W04', '/industries/indus?ind=F03', '/industries/indus?ind=C2100', '/industries/indus?ind=B', '/industries/indus?ind=C5120', '/industries/indus?ind=Q01', '/industries/indus?ind=C', '/industries/indus?ind=C04', '/industries/indus?ind=P01', '/industries/indus?ind=F05', '/industries/indus?ind=A01', '/industries/indus?ind=M05', '/industries/indus?ind=T6250', '/industries/indus?ind=A04', '/industries/indus?ind=D', '/industries/indus?ind=D01', '/industries/indus?ind=D02', '/industries/indus?ind=Q04', '/industries/indus?ind=Z1200', '/industries/indus?ind=J2100', '/industries/indus?ind=Q02', '/industries/indus?ind=H1400', '/industries/indus?ind=H01', '/industries/indus?ind=H4300', '/industries/indus?ind=W04', '/industries/indus?ind=E08', '/industries/indus?ind=B12', '/industries/indus?ind=D02', '/industries/indus?ind=E', '/industries/indus?ind=B02', '/industries/indus?ind=Q11', '/industries/indus?ind=A6500', '/industries/indus?ind=A01', '/industries/indus?ind=F06', '/industries/indus?ind=F', '/industries/indus?ind=N01', '/industries/indus?ind=A09', '/industries/indus?ind=G2100', '/industries/indus?ind=G2400', '/industries/indus?ind=H5300', '/industries/indus?ind=G7000', '/industries/indus?ind=Q04', '/industries/indus?ind=A10', '/industries/indus?ind=W02', '/industries/indus?ind=G5400', '/industries/indus?ind=N07', '/industries/indus?ind=G6550', '/industries/indus?ind=E10', '/industries/indus?ind=E01', '/industries/indus?ind=C01', '/industries/indus?ind=P04', '/industries/indus?ind=W03', '/industries/indus?ind=Q12', '/industries/indus?ind=Q13', '/industries/indus?ind=H', '/industries/indus?ind=H01', '/industries/indus?ind=H03', '/industries/indus?ind=F2700', '/industries/indus?ind=H03', '/industries/indus?ind=C02', '/industries/indus?ind=H02', '/industries/indus?ind=N08', '/industries/indus?ind=Q09', '/industries/indus?ind=Q', '/industries/indus?ind=G6550', '/industries/indus?ind=P02', '/industries/indus?ind=F09', '/industries/indus?ind=B13', '/industries/indus?ind=Q05', '/industries/indus?ind=P', '/industries/indus?ind=K', '/industries/indus?ind=K01', '/industries/indus?ind=Q03', '/industries/indus?ind=J7300', '/industries/indus?ind=Q02', '/industries/indus?ind=N02', '/industries/indus?ind=A06', '/industries/indus?ind=K02', '/industries/indus?ind=N08', '/industries/indus?ind=A10', '/industries/indus?ind=N15', '/industries/indus?ind=G2860', '/industries/indus?ind=N09', '/industries/indus?ind=M05', '/industries/indus?ind=G2300', '/industries/indus?ind=H4100', '/industries/indus?ind=E04', '/industries/indus?ind=N', '/industries/indus?ind=F13', '/industries/indus?ind=N15', '/industries/indus?ind=P05', '/industries/indus?ind=D03', '/industries/indus?ind=N04', '/industries/indus?ind=F4600', '/industries/indus?ind=C2400', '/industries/indus?ind=C2600', '/industries/indus?ind=E1140', '/industries/indus?ind=C1100', '/industries/indus?ind=W02', '/industries/indus?ind=H1710', '/industries/indus?ind=H02', '/industries/indus?ind=H4600', '/industries/indus?ind=E01', '/industries/indus?ind=W', '/industries/indus?ind=F1420', '/industries/indus?ind=H4300', '/industries/indus?ind=H04', '/industries/indus?ind=B08', '/industries/indus?ind=H01', '/industries/indus?ind=L1500', '/industries/indus?ind=A05', '/industries/indus?ind=E08', '/industries/indus?ind=B01', '/industries/indus?ind=F2600', '/industries/indus?ind=Q05', '/industries/indus?ind=G6400', '/industries/indus?ind=Q02', '/industries/indus?ind=W03', '/industries/indus?ind=P04', '/industries/indus?ind=B01', '/industries/indus?ind=C2100', '/industries/indus?ind=M04', '/industries/indus?ind=F10', '/industries/indus?ind=C2600', '/industries/indus?ind=C2600', '/industries/indus?ind=N06', '/industries/indus?ind=W05', '/industries/indus?ind=Z1100', '/industries/indus?ind=J2200', '/industries/indus?ind=Q01', '/industries/indus?ind=C02', '/industries/indus?ind=G2900', '/industries/indus?ind=N03', '/industries/indus?ind=W06', '/industries/indus?ind=F04', '/industries/indus?ind=W04', '/industries/indus?ind=M05', '/industries/indus?ind=F07', '/industries/indus?ind=C03', '/industries/indus?ind=G6400', '/industries/indus?ind=N14', '/industries/indus?ind=F07', '/industries/indus?ind=F1410', '/industries/indus?ind=A1200', '/industries/indus?ind=L1300', '/industries/indus?ind=W04', '/industries/indus?ind=B09', '/industries/indus?ind=B08', '/industries/indus?ind=N16', '/industries/indus?ind=A10', '/industries/indus?ind=A02', '/industries/indus?ind=M', '/industries/indus?ind=P03', '/industries/indus?ind=E10', '/industries/indus?ind=M03', '/industries/indus?ind=B02', '/industries/indus?ind=C2300', '/industries/indus?ind=P', '/industries/indus?ind=LT100', '/industries/indus?ind=P01', '/industries/indus?ind=P02', '/industries/indus?ind=P05', '/industries/indus?ind=P04', '/industries/indus?ind=L1300', '/industries/indus?ind=P03', '/industries/indus?ind=W04', '/industries/indus?ind=A1400', '/industries/indus?ind=F2500', '/industries/indus?ind=E10', '/industries/indus?ind=N02', '/industries/indus?ind=Q08']\n",
      "['Abortion Policy/Anti-Abortion', 'Abortion Policy/Pro-Abortion Rights', 'Accountants', 'Advertising/Public Relations', 'Aerospace, Defense Contractors', 'Agribusiness', 'Agricultural Services & Products', 'Agriculture', 'Air Transport', 'Air Transport Unions', 'Airlines', 'Alcoholic Beverages', 'Alternative Energy Production & Services', 'Alternative Energy Production & Services', 'Architectural Services', 'Attorneys/Law Firms', 'Auto Dealers', 'Auto Dealers, Foreign Imports', 'Auto Manufacturers', 'Automotive', 'Banking, Mortgage', 'Banks, Commercial', 'Banks, Savings & Loans', 'Bars & Restaurants', 'Beer, Wine & Liquor', 'Books, Magazines & Newspapers', 'Broadcasters, Radio/TV', 'Builders/General Contractors', 'Builders/Residential', 'Building Materials & Equipment', 'Building Trade Unions', 'Business Associations', 'Business Services', 'Cable & Satellite TV Production & Distribution', 'Candidate Committees', 'Candidate Committees, Democratic', 'Candidate Committees, Republican', 'Car Dealers', 'Car Dealers, Imports', 'Car Manufacturers', 'Casinos / Gambling', 'Cattle Ranchers/Livestock', 'Chemical & Related Manufacturing', 'Chiropractors', 'Civil Servants/Public Officials', 'Clergy & Religious Organizations', 'Clothing Manufacturing', 'Coal Mining', 'Colleges, Universities & Schools', 'Commercial Banks', 'Commercial TV & Radio Stations', 'Communications/Electronics', 'Computer Software', 'Conservative/Republican', 'Construction', 'Construction Services', 'Construction Unions', 'Credit Unions', 'Crop Production & Basic Processing', 'Cruise Lines', 'Cruise Ships & Lines', 'Dairy', 'Defense', 'Defense Aerospace', 'Defense Electronics', 'Defense/Foreign Policy Advocates', 'Democratic Candidate Committees', 'Democratic Leadership PACs', 'Democratic/Liberal', 'Dentists', 'Doctors & Other Health Professionals', 'Drug Manufacturers', 'Education', 'Electric Utilities', 'Electronics Manufacturing & Equipment', 'Electronics, Defense Contractors', 'Energy & Natural Resources', 'Entertainment Industry', 'Environment', 'Farm Bureaus', 'Farming', 'Finance / Credit Companies', 'Finance, Insurance & Real Estate', 'Food & Beverage', 'Food Processing & Sales', 'Food Products Manufacturing', 'Food Stores', 'For-profit Education', 'For-profit Prisons', 'Foreign & Defense Policy', 'Forestry & Forest Products', 'Foundations, Philanthropists & Non-Profits', 'Funeral Services', 'Gambling & Casinos', 'Gambling, Indian Casinos', 'Garbage Collection/Waste Management', 'Gas & Oil', 'General Contractors', 'Government Employee Unions', 'Government Employees', 'Gun Control', 'Gun Rights', 'Health', 'Health Professionals', 'Health Services/HMOs', 'Hedge Funds', 'HMOs & Health Care Services', 'Home Builders', 'Hospitals & Nursing Homes', 'Hotels, Motels & Tourism', 'Human Rights', 'Ideological/Single-Issue', 'Indian Gaming', 'Industrial Unions', 'Insurance', 'Internet', 'Israel Policy', 'Labor', 'Lawyers & Lobbyists', 'Lawyers / Law Firms', 'Leadership PACs', 'LGBTQIA Rights & Issues', 'Liberal/Democratic', 'Liquor, Wine & Beer', 'Livestock', 'Lobbyists', 'Lodging / Tourism', 'Logging, Timber & Paper Mills', 'Manufacturing, Misc', 'Marijuana', 'Marijuana', 'Marine Transport', 'Meat processing & products', 'Medical Supplies', 'Mining', 'Misc Business', 'Misc Finance', 'Misc Manufacturing & Distributing', 'Misc Unions', 'Miscellaneous Defense', 'Miscellaneous Services', 'Mortgage Bankers & Brokers', 'Motion Picture Production & Distribution', 'Music Production', 'Natural Gas Pipelines', 'Newspaper, Magazine & Book Publishing', 'Non-profits, Foundations & Philanthropists', 'Nurses', 'Nursing Homes/Hospitals', 'Nutritional & Dietary Supplements', 'Oil & Gas', 'Other', 'Payday Lenders', 'Pharmaceutical Manufacturing', 'Pharmaceuticals / Health Products', 'Phone Companies', 'Physicians & Other Health Professionals', 'Postal Unions', 'Poultry & Eggs', 'Power Utilities', 'Printing & Publishing', 'Private Equity & Investment Firms', 'Pro-Israel', 'Professional Sports, Sports Arenas & Related Equipment & Services', 'Progressive/Democratic', 'Public Employees', 'Public Sector Unions', 'Publishing & Printing', 'Radio/TV Stations', 'Railroads', 'Real Estate', 'Record Companies/Singers', 'Recorded Music & Music Production', 'Recreation / Live Entertainment', 'Religious Organizations/Clergy', 'Republican Candidate Committees', 'Republican Leadership PACs', 'Republican/Conservative', 'Residential Construction', 'Restaurants & Drinking Establishments', 'Retail Sales', 'Retired', 'Savings & Loans', 'Schools/Education', 'Sea Transport', 'Securities & Investment', 'Special Trade Contractors', 'Sports, Professional', 'Steel Production', 'Stock Brokers/Investment Industry', 'Student Loan Companies', 'Sugar Cane & Sugar Beets', 'Teachers Unions', 'Teachers/Education', 'Telecom Services & Equipment', 'Telephone Utilities', 'Textiles', 'Timber, Logging & Paper Mills', 'Tobacco', 'Transportation', 'Transportation Unions', 'Trash Collection/Waste Management', 'Trucking', 'TV / Movies / Music', 'TV Production', 'Unions', 'Unions, Airline', 'Unions, Building Trades', 'Unions, Industrial', 'Unions, Misc', 'Unions, Public Sector', 'Unions, Teacher', 'Unions, Transportation', 'Universities, Colleges & Schools', 'Vegetables & Fruits', 'Venture Capital', 'Waste Management', 'Wine, Beer & Liquor', \"Women's Issues\"]\n"
     ]
    }
   ],
   "source": [
    "from selenium import webdriver\n",
    "from selenium.webdriver.common.by import By\n",
    "from selenium.webdriver.support.ui import WebDriverWait\n",
    "from selenium.webdriver.support import expected_conditions as EC\n",
    "import urllib.parse\n",
    "from bs4 import BeautifulSoup\n",
    "\n",
    "\n",
    "# Initialize a Chrome webdriver (you need to have Chrome driver installed)\n",
    "driver = webdriver.Chrome()\n",
    "\n",
    "# Fetch HTML content of the main page\n",
    "url = \"https://www.opensecrets.org/industries/alphalist\"\n",
    "driver.get(url)\n",
    "\n",
    "# Wait for the page to load and JavaScript to execute\n",
    "wait = WebDriverWait(driver, 10)\n",
    "wait.until(EC.presence_of_element_located((By.TAG_NAME, \"a\")))\n",
    "\n",
    "# Parse HTML content\n",
    "html_content = driver.page_source\n",
    "\n",
    "# Find all industry links\n",
    "soup = BeautifulSoup(html_content, \"html.parser\")\n",
    "industry_links = soup.find_all('a', class_=\"light_link\")\n",
    "links = soup.find_all('a', class_='light_link')\n",
    "# print(links)\n",
    "industry_links = []\n",
    "for a in links:\n",
    "    industry_links.append(a['href'])\n",
    "    \n",
    "names = []\n",
    "for a in links:\n",
    "    names.append(a.text.strip())\n",
    "    \n",
    "# industry_links = [a['href'] for a in soup.find_all('a', class_='light_link')]\n",
    "print(industry_links)\n",
    "print(names)\n",
    "\n",
    "driver.quit()\n"
   ]
  },
  {
   "cell_type": "code",
   "execution_count": null,
   "id": "74df7e16",
   "metadata": {},
   "outputs": [],
   "source": []
  },
  {
   "cell_type": "code",
   "execution_count": 10,
   "id": "b5b389d7",
   "metadata": {},
   "outputs": [
    {
     "ename": "AttributeError",
     "evalue": "module 'wikipedia' has no attribute 'Wiki'",
     "output_type": "error",
     "traceback": [
      "\u001b[0;31m---------------------------------------------------------------------------\u001b[0m",
      "\u001b[0;31mAttributeError\u001b[0m                            Traceback (most recent call last)",
      "Cell \u001b[0;32mIn[10], line 6\u001b[0m\n\u001b[1;32m      1\u001b[0m user_query \u001b[38;5;241m=\u001b[39m {\u001b[38;5;124m'\u001b[39m\u001b[38;5;124maction\u001b[39m\u001b[38;5;124m'\u001b[39m:\u001b[38;5;124m'\u001b[39m\u001b[38;5;124mquery\u001b[39m\u001b[38;5;124m'\u001b[39m,\n\u001b[1;32m      2\u001b[0m               \u001b[38;5;124m'\u001b[39m\u001b[38;5;124mlist\u001b[39m\u001b[38;5;124m'\u001b[39m:\u001b[38;5;124m'\u001b[39m\u001b[38;5;124musers\u001b[39m\u001b[38;5;124m'\u001b[39m,\n\u001b[1;32m      3\u001b[0m               \u001b[38;5;124m'\u001b[39m\u001b[38;5;124musprop\u001b[39m\u001b[38;5;124m'\u001b[39m:\u001b[38;5;124m'\u001b[39m\u001b[38;5;124mblockinfo|groups|editcount|registration|gender\u001b[39m\u001b[38;5;124m'\u001b[39m,\n\u001b[1;32m      4\u001b[0m               \u001b[38;5;124m'\u001b[39m\u001b[38;5;124mususers\u001b[39m\u001b[38;5;124m'\u001b[39m:\u001b[38;5;124m'\u001b[39m\u001b[38;5;124mMadcoverboy|Jimbo Wales\u001b[39m\u001b[38;5;124m'\u001b[39m}\n\u001b[0;32m----> 6\u001b[0m query_results \u001b[38;5;241m=\u001b[39m wikipedia_query(user_query)\n\u001b[1;32m      7\u001b[0m query_results\n",
      "Cell \u001b[0;32mIn[9], line 2\u001b[0m, in \u001b[0;36mwikipedia_query\u001b[0;34m(query_params, site_url)\u001b[0m\n\u001b[1;32m      1\u001b[0m \u001b[38;5;28;01mdef\u001b[39;00m \u001b[38;5;21mwikipedia_query\u001b[39m(query_params,site_url\u001b[38;5;241m=\u001b[39m\u001b[38;5;124m'\u001b[39m\u001b[38;5;124mhttp://en.wikipedia.org/w/api.php\u001b[39m\u001b[38;5;124m'\u001b[39m):\n\u001b[0;32m----> 2\u001b[0m     site \u001b[38;5;241m=\u001b[39m wiki\u001b[38;5;241m.\u001b[39mWiki(url\u001b[38;5;241m=\u001b[39msite_url)\n\u001b[1;32m      3\u001b[0m     request \u001b[38;5;241m=\u001b[39m api\u001b[38;5;241m.\u001b[39mAPIRequest(site, query_params)\n\u001b[1;32m      4\u001b[0m     result \u001b[38;5;241m=\u001b[39m request\u001b[38;5;241m.\u001b[39mquery()\n",
      "\u001b[0;31mAttributeError\u001b[0m: module 'wikipedia' has no attribute 'Wiki'"
     ]
    }
   ],
   "source": [
    "user_query = {'action':'query',\n",
    "              'list':'users',\n",
    "              'usprop':'blockinfo|groups|editcount|registration|gender',\n",
    "              'ususers':'Madcoverboy|Jimbo Wales'}\n",
    "\n",
    "query_results = wikipedia_query(user_query)\n",
    "query_results"
   ]
  },
  {
   "cell_type": "code",
   "execution_count": 2,
   "id": "b8cdb66f",
   "metadata": {},
   "outputs": [
    {
     "data": {
      "text/plain": [
       "networkx.classes.graph.Graph"
      ]
     },
     "execution_count": 2,
     "metadata": {},
     "output_type": "execute_result"
    }
   ],
   "source": [
    "#create graph object\n",
    "G = nx.Graph()\n",
    "\n",
    "type(G)"
   ]
  }
 ],
 "metadata": {
  "kernelspec": {
   "display_name": "Python 3 (ipykernel)",
   "language": "python",
   "name": "python3"
  },
  "language_info": {
   "codemirror_mode": {
    "name": "ipython",
    "version": 3
   },
   "file_extension": ".py",
   "mimetype": "text/x-python",
   "name": "python",
   "nbconvert_exporter": "python",
   "pygments_lexer": "ipython3",
   "version": "3.11.5"
  }
 },
 "nbformat": 4,
 "nbformat_minor": 5
}
